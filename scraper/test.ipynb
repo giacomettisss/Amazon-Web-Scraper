{
 "cells": [
  {
   "cell_type": "code",
   "execution_count": 6,
   "metadata": {},
   "outputs": [],
   "source": [
    "# import requests\n",
    "# import wget\n",
    "# import zipfile\n",
    "# import os\n",
    "\n",
    "# url = 'https://chromedriver.storage.googleapis.com/LATEST_RELEASE'\n",
    "# response = requests.get(url)\n",
    "# version_number = response.text\n",
    "\n",
    "# download_url = \"https://chromedriver.storage.googleapis.com/\" + version_number +\"/chromedriver_win32.zip\"\n",
    "\n",
    "# latest_driver_zip = wget.download(download_url,'chromedriver.zip')\n",
    "\n",
    "# with zipfile.ZipFile(latest_driver_zip, 'r') as zip_ref:\n",
    "#     zip_ref.extractall() \n",
    "# os.remove(latest_driver_zip)"
   ]
  },
  {
   "cell_type": "code",
   "execution_count": 12,
   "metadata": {},
   "outputs": [
    {
     "ename": "InvalidArgumentException",
     "evalue": "Message: invalid argument\n  (Session info: chrome=120.0.6099.227)\nStacktrace:\n\tGetHandleVerifier [0x00606EE3+174339]\n\t(No symbol) [0x00530A51]\n\t(No symbol) [0x00246E8A]\n\t(No symbol) [0x0023A152]\n\t(No symbol) [0x00238983]\n\t(No symbol) [0x00238DD8]\n\t(No symbol) [0x00248EB7]\n\t(No symbol) [0x002AA9D2]\n\t(No symbol) [0x0029700C]\n\t(No symbol) [0x002AA104]\n\t(No symbol) [0x00296DA6]\n\t(No symbol) [0x00271034]\n\t(No symbol) [0x00271F8D]\n\tGetHandleVerifier [0x006A4B1C+820540]\n\tsqlite3_dbdata_init [0x007653EE+653550]\n\tsqlite3_dbdata_init [0x00764E09+652041]\n\tsqlite3_dbdata_init [0x007597CC+605388]\n\tsqlite3_dbdata_init [0x00765D9B+656027]\n\t(No symbol) [0x0053FE6C]\n\t(No symbol) [0x005383B8]\n\t(No symbol) [0x005384DD]\n\t(No symbol) [0x00525818]\n\tBaseThreadInitThunk [0x7597FCC9+25]\n\tRtlGetAppContainerNamedObjectPath [0x77A77C6E+286]\n\tRtlGetAppContainerNamedObjectPath [0x77A77C3E+238]\n",
     "output_type": "error",
     "traceback": [
      "\u001b[1;31m---------------------------------------------------------------------------\u001b[0m",
      "\u001b[1;31mInvalidArgumentException\u001b[0m                  Traceback (most recent call last)",
      "Cell \u001b[1;32mIn[12], line 6\u001b[0m\n\u001b[0;32m      3\u001b[0m \u001b[38;5;28;01mfrom\u001b[39;00m \u001b[38;5;21;01mwebdriver_manager\u001b[39;00m\u001b[38;5;21;01m.\u001b[39;00m\u001b[38;5;21;01mchrome\u001b[39;00m \u001b[38;5;28;01mimport\u001b[39;00m ChromeDriverManager\n\u001b[0;32m      5\u001b[0m driver \u001b[38;5;241m=\u001b[39m webdriver\u001b[38;5;241m.\u001b[39mChrome(service\u001b[38;5;241m=\u001b[39mChromeService(ChromeDriverManager()\u001b[38;5;241m.\u001b[39minstall()))\n\u001b[1;32m----> 6\u001b[0m \u001b[43mdriver\u001b[49m\u001b[38;5;241;43m.\u001b[39;49m\u001b[43mget\u001b[49m\u001b[43m(\u001b[49m\u001b[38;5;124;43m'\u001b[39;49m\u001b[38;5;124;43mamazon\u001b[39;49m\u001b[38;5;124;43m'\u001b[39;49m\u001b[43m)\u001b[49m\n",
      "File \u001b[1;32me:\\Amazon Web Scraper\\venv\\Lib\\site-packages\\selenium\\webdriver\\remote\\webdriver.py:357\u001b[0m, in \u001b[0;36mWebDriver.get\u001b[1;34m(self, url)\u001b[0m\n\u001b[0;32m    355\u001b[0m \u001b[38;5;28;01mdef\u001b[39;00m \u001b[38;5;21mget\u001b[39m(\u001b[38;5;28mself\u001b[39m, url: \u001b[38;5;28mstr\u001b[39m) \u001b[38;5;241m-\u001b[39m\u001b[38;5;241m>\u001b[39m \u001b[38;5;28;01mNone\u001b[39;00m:\n\u001b[0;32m    356\u001b[0m \u001b[38;5;250m    \u001b[39m\u001b[38;5;124;03m\"\"\"Loads a web page in the current browser session.\"\"\"\u001b[39;00m\n\u001b[1;32m--> 357\u001b[0m     \u001b[38;5;28;43mself\u001b[39;49m\u001b[38;5;241;43m.\u001b[39;49m\u001b[43mexecute\u001b[49m\u001b[43m(\u001b[49m\u001b[43mCommand\u001b[49m\u001b[38;5;241;43m.\u001b[39;49m\u001b[43mGET\u001b[49m\u001b[43m,\u001b[49m\u001b[43m \u001b[49m\u001b[43m{\u001b[49m\u001b[38;5;124;43m\"\u001b[39;49m\u001b[38;5;124;43murl\u001b[39;49m\u001b[38;5;124;43m\"\u001b[39;49m\u001b[43m:\u001b[49m\u001b[43m \u001b[49m\u001b[43murl\u001b[49m\u001b[43m}\u001b[49m\u001b[43m)\u001b[49m\n",
      "File \u001b[1;32me:\\Amazon Web Scraper\\venv\\Lib\\site-packages\\selenium\\webdriver\\remote\\webdriver.py:348\u001b[0m, in \u001b[0;36mWebDriver.execute\u001b[1;34m(self, driver_command, params)\u001b[0m\n\u001b[0;32m    346\u001b[0m response \u001b[38;5;241m=\u001b[39m \u001b[38;5;28mself\u001b[39m\u001b[38;5;241m.\u001b[39mcommand_executor\u001b[38;5;241m.\u001b[39mexecute(driver_command, params)\n\u001b[0;32m    347\u001b[0m \u001b[38;5;28;01mif\u001b[39;00m response:\n\u001b[1;32m--> 348\u001b[0m     \u001b[38;5;28;43mself\u001b[39;49m\u001b[38;5;241;43m.\u001b[39;49m\u001b[43merror_handler\u001b[49m\u001b[38;5;241;43m.\u001b[39;49m\u001b[43mcheck_response\u001b[49m\u001b[43m(\u001b[49m\u001b[43mresponse\u001b[49m\u001b[43m)\u001b[49m\n\u001b[0;32m    349\u001b[0m     response[\u001b[38;5;124m\"\u001b[39m\u001b[38;5;124mvalue\u001b[39m\u001b[38;5;124m\"\u001b[39m] \u001b[38;5;241m=\u001b[39m \u001b[38;5;28mself\u001b[39m\u001b[38;5;241m.\u001b[39m_unwrap_value(response\u001b[38;5;241m.\u001b[39mget(\u001b[38;5;124m\"\u001b[39m\u001b[38;5;124mvalue\u001b[39m\u001b[38;5;124m\"\u001b[39m, \u001b[38;5;28;01mNone\u001b[39;00m))\n\u001b[0;32m    350\u001b[0m     \u001b[38;5;28;01mreturn\u001b[39;00m response\n",
      "File \u001b[1;32me:\\Amazon Web Scraper\\venv\\Lib\\site-packages\\selenium\\webdriver\\remote\\errorhandler.py:229\u001b[0m, in \u001b[0;36mErrorHandler.check_response\u001b[1;34m(self, response)\u001b[0m\n\u001b[0;32m    227\u001b[0m         alert_text \u001b[38;5;241m=\u001b[39m value[\u001b[38;5;124m\"\u001b[39m\u001b[38;5;124malert\u001b[39m\u001b[38;5;124m\"\u001b[39m]\u001b[38;5;241m.\u001b[39mget(\u001b[38;5;124m\"\u001b[39m\u001b[38;5;124mtext\u001b[39m\u001b[38;5;124m\"\u001b[39m)\n\u001b[0;32m    228\u001b[0m     \u001b[38;5;28;01mraise\u001b[39;00m exception_class(message, screen, stacktrace, alert_text)  \u001b[38;5;66;03m# type: ignore[call-arg]  # mypy is not smart enough here\u001b[39;00m\n\u001b[1;32m--> 229\u001b[0m \u001b[38;5;28;01mraise\u001b[39;00m exception_class(message, screen, stacktrace)\n",
      "\u001b[1;31mInvalidArgumentException\u001b[0m: Message: invalid argument\n  (Session info: chrome=120.0.6099.227)\nStacktrace:\n\tGetHandleVerifier [0x00606EE3+174339]\n\t(No symbol) [0x00530A51]\n\t(No symbol) [0x00246E8A]\n\t(No symbol) [0x0023A152]\n\t(No symbol) [0x00238983]\n\t(No symbol) [0x00238DD8]\n\t(No symbol) [0x00248EB7]\n\t(No symbol) [0x002AA9D2]\n\t(No symbol) [0x0029700C]\n\t(No symbol) [0x002AA104]\n\t(No symbol) [0x00296DA6]\n\t(No symbol) [0x00271034]\n\t(No symbol) [0x00271F8D]\n\tGetHandleVerifier [0x006A4B1C+820540]\n\tsqlite3_dbdata_init [0x007653EE+653550]\n\tsqlite3_dbdata_init [0x00764E09+652041]\n\tsqlite3_dbdata_init [0x007597CC+605388]\n\tsqlite3_dbdata_init [0x00765D9B+656027]\n\t(No symbol) [0x0053FE6C]\n\t(No symbol) [0x005383B8]\n\t(No symbol) [0x005384DD]\n\t(No symbol) [0x00525818]\n\tBaseThreadInitThunk [0x7597FCC9+25]\n\tRtlGetAppContainerNamedObjectPath [0x77A77C6E+286]\n\tRtlGetAppContainerNamedObjectPath [0x77A77C3E+238]\n"
     ]
    }
   ],
   "source": [
    "from selenium import webdriver\n",
    "from selenium.webdriver.chrome.service import Service as ChromeService\n",
    "from webdriver_manager.chrome import ChromeDriverManager\n",
    "\n",
    "driver = webdriver.Chrome(service=ChromeService(ChromeDriverManager().install()))\n",
    "driver.get('amazon')"
   ]
  },
  {
   "cell_type": "code",
   "execution_count": 11,
   "metadata": {},
   "outputs": [
    {
     "ename": "InvalidArgumentException",
     "evalue": "Message: invalid argument\n  (Session info: chrome=120.0.6099.227)\nStacktrace:\n\tGetHandleVerifier [0x00606EE3+174339]\n\t(No symbol) [0x00530A51]\n\t(No symbol) [0x00246E8A]\n\t(No symbol) [0x0023A152]\n\t(No symbol) [0x00238983]\n\t(No symbol) [0x00238DD8]\n\t(No symbol) [0x00248EB7]\n\t(No symbol) [0x002AA9D2]\n\t(No symbol) [0x0029700C]\n\t(No symbol) [0x002AA104]\n\t(No symbol) [0x00296DA6]\n\t(No symbol) [0x00271034]\n\t(No symbol) [0x00271F8D]\n\tGetHandleVerifier [0x006A4B1C+820540]\n\tsqlite3_dbdata_init [0x007653EE+653550]\n\tsqlite3_dbdata_init [0x00764E09+652041]\n\tsqlite3_dbdata_init [0x007597CC+605388]\n\tsqlite3_dbdata_init [0x00765D9B+656027]\n\t(No symbol) [0x0053FE6C]\n\t(No symbol) [0x005383B8]\n\t(No symbol) [0x005384DD]\n\t(No symbol) [0x00525818]\n\tBaseThreadInitThunk [0x7597FCC9+25]\n\tRtlGetAppContainerNamedObjectPath [0x77A77C6E+286]\n\tRtlGetAppContainerNamedObjectPath [0x77A77C3E+238]\n",
     "output_type": "error",
     "traceback": [
      "\u001b[1;31m---------------------------------------------------------------------------\u001b[0m",
      "\u001b[1;31mInvalidArgumentException\u001b[0m                  Traceback (most recent call last)",
      "Cell \u001b[1;32mIn[11], line 1\u001b[0m\n\u001b[1;32m----> 1\u001b[0m \u001b[43mdriver\u001b[49m\u001b[38;5;241;43m.\u001b[39;49m\u001b[43mget\u001b[49m\u001b[43m(\u001b[49m\u001b[38;5;124;43m'\u001b[39;49m\u001b[38;5;124;43mamazon\u001b[39;49m\u001b[38;5;124;43m'\u001b[39;49m\u001b[43m)\u001b[49m\n",
      "File \u001b[1;32me:\\Amazon Web Scraper\\venv\\Lib\\site-packages\\selenium\\webdriver\\remote\\webdriver.py:357\u001b[0m, in \u001b[0;36mWebDriver.get\u001b[1;34m(self, url)\u001b[0m\n\u001b[0;32m    355\u001b[0m \u001b[38;5;28;01mdef\u001b[39;00m \u001b[38;5;21mget\u001b[39m(\u001b[38;5;28mself\u001b[39m, url: \u001b[38;5;28mstr\u001b[39m) \u001b[38;5;241m-\u001b[39m\u001b[38;5;241m>\u001b[39m \u001b[38;5;28;01mNone\u001b[39;00m:\n\u001b[0;32m    356\u001b[0m \u001b[38;5;250m    \u001b[39m\u001b[38;5;124;03m\"\"\"Loads a web page in the current browser session.\"\"\"\u001b[39;00m\n\u001b[1;32m--> 357\u001b[0m     \u001b[38;5;28;43mself\u001b[39;49m\u001b[38;5;241;43m.\u001b[39;49m\u001b[43mexecute\u001b[49m\u001b[43m(\u001b[49m\u001b[43mCommand\u001b[49m\u001b[38;5;241;43m.\u001b[39;49m\u001b[43mGET\u001b[49m\u001b[43m,\u001b[49m\u001b[43m \u001b[49m\u001b[43m{\u001b[49m\u001b[38;5;124;43m\"\u001b[39;49m\u001b[38;5;124;43murl\u001b[39;49m\u001b[38;5;124;43m\"\u001b[39;49m\u001b[43m:\u001b[49m\u001b[43m \u001b[49m\u001b[43murl\u001b[49m\u001b[43m}\u001b[49m\u001b[43m)\u001b[49m\n",
      "File \u001b[1;32me:\\Amazon Web Scraper\\venv\\Lib\\site-packages\\selenium\\webdriver\\remote\\webdriver.py:348\u001b[0m, in \u001b[0;36mWebDriver.execute\u001b[1;34m(self, driver_command, params)\u001b[0m\n\u001b[0;32m    346\u001b[0m response \u001b[38;5;241m=\u001b[39m \u001b[38;5;28mself\u001b[39m\u001b[38;5;241m.\u001b[39mcommand_executor\u001b[38;5;241m.\u001b[39mexecute(driver_command, params)\n\u001b[0;32m    347\u001b[0m \u001b[38;5;28;01mif\u001b[39;00m response:\n\u001b[1;32m--> 348\u001b[0m     \u001b[38;5;28;43mself\u001b[39;49m\u001b[38;5;241;43m.\u001b[39;49m\u001b[43merror_handler\u001b[49m\u001b[38;5;241;43m.\u001b[39;49m\u001b[43mcheck_response\u001b[49m\u001b[43m(\u001b[49m\u001b[43mresponse\u001b[49m\u001b[43m)\u001b[49m\n\u001b[0;32m    349\u001b[0m     response[\u001b[38;5;124m\"\u001b[39m\u001b[38;5;124mvalue\u001b[39m\u001b[38;5;124m\"\u001b[39m] \u001b[38;5;241m=\u001b[39m \u001b[38;5;28mself\u001b[39m\u001b[38;5;241m.\u001b[39m_unwrap_value(response\u001b[38;5;241m.\u001b[39mget(\u001b[38;5;124m\"\u001b[39m\u001b[38;5;124mvalue\u001b[39m\u001b[38;5;124m\"\u001b[39m, \u001b[38;5;28;01mNone\u001b[39;00m))\n\u001b[0;32m    350\u001b[0m     \u001b[38;5;28;01mreturn\u001b[39;00m response\n",
      "File \u001b[1;32me:\\Amazon Web Scraper\\venv\\Lib\\site-packages\\selenium\\webdriver\\remote\\errorhandler.py:229\u001b[0m, in \u001b[0;36mErrorHandler.check_response\u001b[1;34m(self, response)\u001b[0m\n\u001b[0;32m    227\u001b[0m         alert_text \u001b[38;5;241m=\u001b[39m value[\u001b[38;5;124m\"\u001b[39m\u001b[38;5;124malert\u001b[39m\u001b[38;5;124m\"\u001b[39m]\u001b[38;5;241m.\u001b[39mget(\u001b[38;5;124m\"\u001b[39m\u001b[38;5;124mtext\u001b[39m\u001b[38;5;124m\"\u001b[39m)\n\u001b[0;32m    228\u001b[0m     \u001b[38;5;28;01mraise\u001b[39;00m exception_class(message, screen, stacktrace, alert_text)  \u001b[38;5;66;03m# type: ignore[call-arg]  # mypy is not smart enough here\u001b[39;00m\n\u001b[1;32m--> 229\u001b[0m \u001b[38;5;28;01mraise\u001b[39;00m exception_class(message, screen, stacktrace)\n",
      "\u001b[1;31mInvalidArgumentException\u001b[0m: Message: invalid argument\n  (Session info: chrome=120.0.6099.227)\nStacktrace:\n\tGetHandleVerifier [0x00606EE3+174339]\n\t(No symbol) [0x00530A51]\n\t(No symbol) [0x00246E8A]\n\t(No symbol) [0x0023A152]\n\t(No symbol) [0x00238983]\n\t(No symbol) [0x00238DD8]\n\t(No symbol) [0x00248EB7]\n\t(No symbol) [0x002AA9D2]\n\t(No symbol) [0x0029700C]\n\t(No symbol) [0x002AA104]\n\t(No symbol) [0x00296DA6]\n\t(No symbol) [0x00271034]\n\t(No symbol) [0x00271F8D]\n\tGetHandleVerifier [0x006A4B1C+820540]\n\tsqlite3_dbdata_init [0x007653EE+653550]\n\tsqlite3_dbdata_init [0x00764E09+652041]\n\tsqlite3_dbdata_init [0x007597CC+605388]\n\tsqlite3_dbdata_init [0x00765D9B+656027]\n\t(No symbol) [0x0053FE6C]\n\t(No symbol) [0x005383B8]\n\t(No symbol) [0x005384DD]\n\t(No symbol) [0x00525818]\n\tBaseThreadInitThunk [0x7597FCC9+25]\n\tRtlGetAppContainerNamedObjectPath [0x77A77C6E+286]\n\tRtlGetAppContainerNamedObjectPath [0x77A77C3E+238]\n"
     ]
    }
   ],
   "source": []
  },
  {
   "cell_type": "code",
   "execution_count": null,
   "metadata": {},
   "outputs": [],
   "source": []
  }
 ],
 "metadata": {
  "kernelspec": {
   "display_name": "venv",
   "language": "python",
   "name": "python3"
  },
  "language_info": {
   "codemirror_mode": {
    "name": "ipython",
    "version": 3
   },
   "file_extension": ".py",
   "mimetype": "text/x-python",
   "name": "python",
   "nbconvert_exporter": "python",
   "pygments_lexer": "ipython3",
   "version": "3.11.7"
  }
 },
 "nbformat": 4,
 "nbformat_minor": 2
}
